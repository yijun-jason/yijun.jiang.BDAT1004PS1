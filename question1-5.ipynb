{
 "cells": [
  {
   "cell_type": "markdown",
   "metadata": {},
   "source": [
    "Question 1 C# What data type is each of the following?"
   ]
  },
  {
   "cell_type": "code",
   "execution_count": null,
   "metadata": {},
   "outputs": [],
   "source": [
    "5            int \n",
    "5.0          double \n",
    "5 > 1        bool \n",
    "'5'          char \n",
    "5 * 2        int \n",
    "'5' * 2      string \n",
    "'5' + '2'     string \n",
    "5 / 2        double \n",
    "5 // 2        int \n",
    "[5, 2, 1]     list \n",
    "5 in [1, 4, 6]    bool \n",
    "math.pi          decimal"
   ]
  },
  {
   "cell_type": "markdown",
   "metadata": {},
   "source": [
    "Question 2 C# Write (and evaluate) Python expressions that answer these questions: a. How many letters are there in 'Supercalifragilisticexpialidocious'?"
   ]
  },
  {
   "cell_type": "code",
   "execution_count": 3,
   "metadata": {},
   "outputs": [
    {
     "name": "stdout",
     "output_type": "stream",
     "text": [
      "there are 34 letters in Supercalifragilisticexpialidocious.\r\n"
     ]
    }
   ],
   "source": [
    "string a = \"Supercalifragilisticexpialidocious\";\n",
    "int b = a.Length;\n",
    "Console.WriteLine(\"there are {0} letters in Supercalifragilisticexpialidocious.\", b);"
   ]
  },
  {
   "cell_type": "markdown",
   "metadata": {},
   "source": [
    "b. Does 'Supercalifragilisticexpialidocious' contain 'ice' as a substring?"
   ]
  },
  {
   "cell_type": "code",
   "execution_count": 6,
   "metadata": {},
   "outputs": [
    {
     "name": "stdout",
     "output_type": "stream",
     "text": [
      "True\r\n"
     ]
    }
   ],
   "source": [
    "string a = \"Supercalifragilisticexpialidocious\";\n",
    "string b=\"ice\";\n",
    "bool c= a.Contains(b);\n",
    "Console.WriteLine(c);"
   ]
  },
  {
   "cell_type": "markdown",
   "metadata": {},
   "source": [
    "c. Which of the following words is the longest:\n",
    "Supercalifragilisticexpialidocious, Honorificabilitudinitatibus, or\n",
    "Bababadalgharaghtakamminarronnkonn?"
   ]
  },
  {
   "cell_type": "code",
   "execution_count": 7,
   "metadata": {},
   "outputs": [
    {
     "name": "stdout",
     "output_type": "stream",
     "text": [
      "Supercalifragilisticexpialidocious, Bababadalgharaghtakamminarronnkonn are the longest\r\n"
     ]
    }
   ],
   "source": [
    "string a=\"Supercalifragilisticexpialidocious\";\n",
    "string b=\"Honorificabilitudinitatibus\";\n",
    "string c=\"Bababadalgharaghtakamminarronnkonn\";\n",
    "if (a.Length > b.Length)\n",
    "        {    \n",
    "          if (a.Length > c.Length)\n",
    "            {\n",
    "            Console.WriteLine(\"{0} is the longest\", a);            \n",
    "            }\n",
    "          else if (a.Length == c.Length)\n",
    "            {\n",
    "            Console.WriteLine(\"{0}, {1} are the longest\", a, c);            \n",
    "            }               \n",
    "          else if (a.Length < c.Length)                  \n",
    "            {\n",
    "            Console.WriteLine(\"{0} is the longest\", c);\n",
    "            }\n",
    "        }\n",
    "else if (a.Length == b.Length)\n",
    "        {    \n",
    "          if (a.Length > c.Length)\n",
    "            {\n",
    "            Console.WriteLine(\"{0}, {1} are the longest\", a, b);          \n",
    "            }\n",
    "          else if (a.Length == c.Length)\n",
    "            {\n",
    "            Console.WriteLine(\"{0}, {1}, {2} is the longest\", a, b, c);            \n",
    "            }               \n",
    "          else if (a.Length < c.Length)                  \n",
    "            {\n",
    "            Console.WriteLine(\"{0} is the longest\", c);\n",
    "            }\n",
    "         }\n",
    "    \n",
    "else if (a.Length < b.Length)    \n",
    "        {    \n",
    "          if (b.Length > c.Length)\n",
    "            {\n",
    "            Console.WriteLine(\"{0} is the longest\", b);          \n",
    "            }\n",
    "          else if (b.Length == c.Length)\n",
    "            {\n",
    "            Console.WriteLine(\"{0}, {1}, are the longest\", b, c);            \n",
    "            }               \n",
    "          else if (b.Length < c.Length)                  \n",
    "            {\n",
    "            Console.WriteLine(\"{0} is the longest\", c);\n",
    "            }\n",
    "         }\n",
    "    \n",
    "    "
   ]
  },
  {
   "cell_type": "markdown",
   "metadata": {},
   "source": [
    "d. Which composer comes first in the dictionary: 'Berlioz', 'Borodin', 'Brian',\n",
    "'Bartok', 'Bellini', 'Buxtehude', 'Bernstein'. Which one comes last?"
   ]
  },
  {
   "cell_type": "code",
   "execution_count": 11,
   "metadata": {},
   "outputs": [
    {
     "name": "stdout",
     "output_type": "stream",
     "text": [
      "Bartok\n",
      "Bellini\n",
      "Berlioz\n",
      "Bernstein\n",
      "Borodin\n",
      "Brian\n",
      "Buxtehude\n"
     ]
    }
   ],
   "source": [
    "var names = new SortedSet<string>();\n",
    "names.Add(\"Berlioz\");\n",
    "names.Add(\"Borodin\");\n",
    "names.Add(\"Brian\");\n",
    "names.Add(\"Bartok\");\n",
    "names.Add(\"Bellini\");\n",
    "names.Add(\"Buxtehude\");\n",
    "names.Add(\"Bernstein\");\n",
    "foreach (var name in names)\n",
    "{\n",
    "Console.WriteLine(name);\n",
    "}"
   ]
  },
  {
   "cell_type": "code",
   "execution_count": null,
   "metadata": {},
   "outputs": [],
   "source": [
    "So, we can see that 'Bartok' comes first and 'Buxtehude' comes last."
   ]
  },
  {
   "cell_type": "markdown",
   "metadata": {},
   "source": []
  },
  {
   "cell_type": "markdown",
   "metadata": {},
   "source": [
    "Question 3 C#\n",
    "Implement function triangleArea(a,b,c) that takes as input the lengths of the 3 sides of a triangle and returns the area of the triangle. By Heron's formula, the area\n",
    "of a triangle with side lengths a, b, and c is s(s - a)(s -b)(s - c), where s = (a +b +c)/2."
   ]
  },
  {
   "cell_type": "code",
   "execution_count": 56,
   "metadata": {},
   "outputs": [],
   "source": [
    "using System;\n",
    "\n",
    "namespace ConsoleApp002\n",
    "{\n",
    "    class triangleArea\n",
    "    {\n",
    "        \n",
    "        static void Main(string[] args)\n",
    "        {\n",
    "            double a; double b; double c;\n",
    "            Console.WriteLine(\"enter one side a：\");\n",
    "            a = Convert.ToDouble(Console.ReadLine());\n",
    "            Console.WriteLine(\"enter one side b：\");\n",
    "            b = Convert.ToDouble(Console.ReadLine());\n",
    "            Console.WriteLine(\"enter one side c：\");\n",
    "            c = Convert.ToDouble(Console.ReadLine());\n",
    "            double s; double area;\n",
    "            s = 0.5 * (a + b + c);\n",
    "            area = Math.Sqrt(s * (s - a) * (s - b) * (s - c));\n",
    "            Console.WriteLine(area);\n",
    "           \n",
    "        }\n",
    "    }\n",
    "}"
   ]
  },
  {
   "cell_type": "code",
   "execution_count": 14,
   "metadata": {},
   "outputs": [],
   "source": [
    " class triangleArea\n",
    "    {\n",
    "        \n",
    "        static void Main(string[] args)\n",
    "        {\n",
    "            double a; double b; double c;\n",
    "            Console.WriteLine(\"enter one side a：\");\n",
    "            a = Convert.ToDouble(Console.ReadLine());\n",
    "            Console.WriteLine(\"enter one side b：\");\n",
    "            b = Convert.ToDouble(Console.ReadLine());\n",
    "            Console.WriteLine(\"enter one side c：\");\n",
    "            c = Convert.ToDouble(Console.ReadLine());\n",
    "            double s; double area;\n",
    "            s = 0.5 * (a + b + c);\n",
    "            area = Math.Sqrt(s * (s - a) * (s - b) * (s - c));\n",
    "            Console.WriteLine(area);\n",
    "           \n",
    "        }\n",
    "    }"
   ]
  },
  {
   "attachments": {
    "3.png": {
     "image/png": "[encoded data removed]"
    }
   },
   "cell_type": "markdown",
   "metadata": {},
   "source": [
    "![3.png](attachment:3.png)"
   ]
  },
  {
   "cell_type": "markdown",
   "metadata": {},
   "source": [
    "Question 4 C#\n",
    "Write a program in C# Sharp to separate odd and even integers in separate arrays.Go to the editor\n",
    "Test Data :Input the number of elements to be stored in the array :5 \n",
    "Input 5 elements in the array :\n",
    "element - 0 : 25\n",
    "element - 1 : 47\n",
    "element - 2 : 42\n",
    "element - 3 : 56\n",
    "element - 4 : 32"
   ]
  },
  {
   "cell_type": "code",
   "execution_count": 90,
   "metadata": {},
   "outputs": [
    {
     "name": "stdout",
     "output_type": "stream",
     "text": [
      "The Even elements are: \n",
      "42\n",
      "56\n",
      "32\n",
      "The odd elements are: \n",
      "25\n",
      "47\n"
     ]
    }
   ],
   "source": [
    "int[] arr = new int[5];\n",
    "arr[0] = 25;\n",
    "arr[1] = 47;\n",
    "arr[2] = 42;\n",
    "arr[3] = 56;\n",
    "arr[4] = 32;\n",
    "Console.WriteLine(\"The Even elements are: \");\n",
    "for (int i = 0; i < arr.Length; i++)\n",
    "{\n",
    "  if (arr[i] % 2==0)\n",
    "    {\n",
    "      Console.WriteLine(arr[i]);\n",
    "    }\n",
    " \n",
    "}\n",
    "Console.WriteLine(\"The odd elements are: \");\n",
    " for (int i = 0; i < arr.Length; i++)\n",
    "{\n",
    "  if (arr[i] % 2 != 0)\n",
    "    {\n",
    "      Console.WriteLine(arr[i]);\n",
    "    }\n",
    "}"
   ]
  },
  {
   "cell_type": "markdown",
   "metadata": {},
   "source": [
    "Question 5 C#\n",
    "a. Write a function inside(x,y,x1,y1,x2,y2) that returns True or False depending on whether the point (x,y) lies in the rectangle with lower left corner (x1,y1) and upper right corner (x2,y2)."
   ]
  },
  {
   "cell_type": "code",
   "execution_count": null,
   "metadata": {},
   "outputs": [],
   "source": [
    "using System; //Visual Studio syntax\n",
    "namespace jeffrd\n",
    "{\n",
    "    class myFunction\n",
    "    {\n",
    "        public void Inside(int x1, int x2, int x, int y1, int y2, int y)\n",
    "        {\n",
    "            if (x > x1 && x < x2 && y > y1 && y < y2)\n",
    "            {\n",
    "                Console.WriteLine(\"inside({0},{1},0,0,2,3)\", x, y);\n",
    "                Console.WriteLine(\"true\");\n",
    "            }\n",
    "            else\n",
    "            {\n",
    "                Console.WriteLine(\"inside({0},{1},0,0,2,3)\", x, y);\n",
    "                Console.WriteLine(\"false\");\n",
    "            }\n",
    "        }\n",
    "        public static void Main()\n",
    "        {\n",
    "            int x, y,x1, x2, y1, y2 ;\n",
    "            Console.WriteLine(\"enter x：\");\n",
    "            x = Convert.ToInt32(Console.ReadLine());\n",
    "            Console.WriteLine(\"enter y\");\n",
    "            y = Convert.ToInt32(Console.ReadLine());\n",
    "            Console.WriteLine(\"enter x1：\");\n",
    "            x1 = Convert.ToInt32(Console.ReadLine());\n",
    "            Console.WriteLine(\"enter y1：\");\n",
    "            y1 = Convert.ToInt32(Console.ReadLine());\n",
    "            Console.WriteLine(\"enter x2：\");\n",
    "            x2 = Convert.ToInt32(Console.ReadLine());\n",
    "            Console.WriteLine(\"enter y2\");\n",
    "            y2 = Convert.ToInt32(Console.ReadLine());        \n",
    "\n",
    "            myFunction program = new myFunction();\n",
    "            program.Inside(x1, x2, x, y1, y2, y);\n",
    "        }\n",
    "    }\n",
    "}"
   ]
  },
  {
   "attachments": {
    "5A-2.png": {
     "image/png": "[encoded data removed]"
    }
   },
   "cell_type": "markdown",
   "metadata": {},
   "source": [
    "![5A-2.png](attachment:5A-2.png)"
   ]
  },
  {
   "attachments": {
    "5A2-2.png": {
     "image/png": "[encoded data removed]"
    }
   },
   "cell_type": "markdown",
   "metadata": {},
   "source": [
    "![5A2-2.png](attachment:5A2-2.png)"
   ]
  },
  {
   "cell_type": "markdown",
   "metadata": {},
   "source": [
    "b. Use function inside() from part a. to write an expression that tests whether\n",
    "the point (1,1) lies in both of the following rectangles: one with lower left\n",
    "corner (0.3, 0.5) and upper right corner (1.1, 0.7) and the other with lower\n",
    "left corner (0.5, 0.2) and upper right corner (1.1, 2)."
   ]
  },
  {
   "cell_type": "code",
   "execution_count": null,
   "metadata": {},
   "outputs": [],
   "source": [
    "using System; //Visual Studio syntax\n",
    "namespace jeffrd\n",
    "{\n",
    "    class myFunction\n",
    "    {\n",
    "        public void Inside(double x1, double x2, double x, double y1, double y2, double y)\n",
    "        {\n",
    "            if (x > x1 && x < x2 && y > y1 && y < y2)\n",
    "            {\n",
    "                Console.WriteLine(\"inside({0},{1},0,0,2,3)\", x, y);\n",
    "                Console.WriteLine(\"true\");\n",
    "            }\n",
    "            else\n",
    "            {\n",
    "                Console.WriteLine(\"inside({0},{1},0,0,2,3)\", x, y);\n",
    "                Console.WriteLine(\"false\");\n",
    "            }\n",
    "        }\n",
    "        public static void Main()\n",
    "        {\n",
    "            double x, y,x1, x2, y1, y2 ;\n",
    "            Console.WriteLine(\"enter x：\");\n",
    "            x = Convert.ToDouble(Console.ReadLine());\n",
    "            Console.WriteLine(\"enter y\");\n",
    "            y = Convert.ToDouble(Console.ReadLine());\n",
    "            Console.WriteLine(\"enter x1：\");\n",
    "            x1 = Convert.ToDouble(Console.ReadLine());\n",
    "            Console.WriteLine(\"enter y1：\");\n",
    "            y1 = Convert.ToDouble(Console.ReadLine());\n",
    "            Console.WriteLine(\"enter x2：\");\n",
    "            x2 = Convert.ToDouble(Console.ReadLine());\n",
    "            Console.WriteLine(\"enter y2\");\n",
    "            y2 = Convert.ToDouble(Console.ReadLine());        \n",
    "\n",
    "            myFunction program = new myFunction();\n",
    "            program.Inside(x1, x2, x, y1, y2, y);\n",
    "        }\n",
    "    }\n",
    "}"
   ]
  },
  {
   "attachments": {
    "5b1.png": {
     "image/png": "[encoded data removed]"
    }
   },
   "cell_type": "markdown",
   "metadata": {},
   "source": [
    "![5b1.png](attachment:5b1.png)"
   ]
  },
  {
   "attachments": {
    "5b2.png": {
     "image/png": "[encoded data removed]"
    }
   },
   "cell_type": "markdown",
   "metadata": {},
   "source": [
    "![5b2.png](attachment:5b2.png)"
   ]
  },
  {
   "cell_type": "markdown",
   "metadata": {},
   "source": [
    "So, according to the pictures above, the point (1,1) does not lie in both of the rectangles."
   ]
  }
 ],
 "metadata": {
  "kernelspec": {
   "display_name": ".NET (C#)",
   "language": "C#",
   "name": ".net-csharp"
  },
  "language_info": {
   "file_extension": ".cs",
   "mimetype": "text/x-csharp",
   "name": "C#",
   "pygments_lexer": "csharp",
   "version": "8.0"
  }
 },
 "nbformat": 4,
 "nbformat_minor": 4
}
